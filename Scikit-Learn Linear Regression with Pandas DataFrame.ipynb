{
 "metadata": {
  "name": "",
  "signature": "sha256:1a53e71b10c40b17e0ec0a1fe2c64cf00558c23d48a9158cf46bbf33275cdce7"
 },
 "nbformat": 3,
 "nbformat_minor": 0,
 "worksheets": [
  {
   "cells": [
    {
     "cell_type": "code",
     "collapsed": false,
     "input": [
      "import pandas as pd\n",
      "import numpy as np\n",
      "from patsy import dmatrices\n",
      "from sklearn import linear_model\n",
      "\n",
      "boston = pd.read_csv(\"C:\\Users\\Nathan\\Dropbox\\Statistical Learning Data Sets\\Boston.csv\")\n",
      "\n",
      "# create dataframes with an intercept column \n",
      "y, X = dmatrices('medv ~ lstat', boston, return_type=\"dataframe\")\n",
      "print X.columns\n",
      "\n",
      "# flatten y into a 1-D array\n",
      "y = np.ravel(y)\n",
      "\n",
      "# Create linear regression object\n",
      "regr = linear_model.LinearRegression()\n",
      "\n",
      "# Train the model using the training sets\n",
      "regr.fit(X, y)\n",
      "\n",
      "print regr.coef_[1:]\n",
      "print regr.intercept_\n",
      "print regr.score(X, y)"
     ],
     "language": "python",
     "metadata": {},
     "outputs": [
      {
       "output_type": "stream",
       "stream": "stdout",
       "text": [
        "Index([u'Intercept', u'lstat'], dtype='object')\n",
        "[-0.95004935]"
       ]
      },
      {
       "output_type": "stream",
       "stream": "stdout",
       "text": [
        "\n",
        "34.5538408794\n",
        "0.544146297586\n"
       ]
      }
     ],
     "prompt_number": 1
    },
    {
     "cell_type": "code",
     "collapsed": false,
     "input": [
      "len(X)"
     ],
     "language": "python",
     "metadata": {},
     "outputs": [
      {
       "metadata": {},
       "output_type": "pyout",
       "prompt_number": 3,
       "text": [
        "506"
       ]
      }
     ],
     "prompt_number": 3
    },
    {
     "cell_type": "code",
     "collapsed": false,
     "input": [
      "len(y)"
     ],
     "language": "python",
     "metadata": {},
     "outputs": [
      {
       "metadata": {},
       "output_type": "pyout",
       "prompt_number": 4,
       "text": [
        "506"
       ]
      }
     ],
     "prompt_number": 4
    },
    {
     "cell_type": "code",
     "collapsed": false,
     "input": [],
     "language": "python",
     "metadata": {},
     "outputs": []
    }
   ],
   "metadata": {}
  }
 ]
}